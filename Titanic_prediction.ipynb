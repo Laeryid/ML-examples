{
 "cells": [
  {
   "cell_type": "code",
   "execution_count": 335,
   "id": "04172051",
   "metadata": {},
   "outputs": [],
   "source": [
    "import numpy as np\n",
    "import pandas as pd\n",
    "import tensorflow as tf\n",
    "from matplotlib import pyplot as plt\n",
    "%matplotlib inline\n",
    "\n",
    "from sklearn.tree import DecisionTreeClassifier\n",
    "from sklearn.metrics import f1_score, accuracy_score\n",
    "from sklearn.ensemble import RandomForestClassifier, AdaBoostClassifier"
   ]
  },
  {
   "cell_type": "markdown",
   "id": "3a8940df",
   "metadata": {},
   "source": [
    "# Read files"
   ]
  },
  {
   "cell_type": "code",
   "execution_count": 14,
   "id": "3f5020b5",
   "metadata": {},
   "outputs": [],
   "source": [
    "train_dataset_labels = pd.read_csv(\"train.csv\")\n",
    "test_dataset = pd.read_csv(\"test.csv\")"
   ]
  },
  {
   "cell_type": "markdown",
   "id": "4bf9da77",
   "metadata": {},
   "source": [
    "# Prepare datasets"
   ]
  },
  {
   "cell_type": "code",
   "execution_count": 94,
   "id": "e26492b3",
   "metadata": {},
   "outputs": [],
   "source": [
    "train_dataset = train_dataset_labels.drop('Transported', axis = 1)\n",
    "train_labels = train_dataset_labels['Transported']\n",
    "\n",
    "train_dataset[\"FamilyID\"] = train_dataset[\"PassengerId\"].str[:4].astype(\"int\")\n",
    "train_dataset[\"FamilySize\"] = train_dataset.join(train_dataset.groupby(\"FamilyID\").count()[\"PassengerId\"]\n",
    "                                                , on=\"FamilyID\"\n",
    "                                                , how=\"left\"\n",
    "                                                , rsuffix='_r'\n",
    "                                                )[\"PassengerId_r\"]\n",
    "train_dataset[\"HomePlanet\"] = train_dataset[\"HomePlanet\"].astype('category')\n",
    "train_dataset[\"HomePlanetID\"] = train_dataset[\"HomePlanet\"].cat.codes\n",
    "train_dataset[\"CryoSleep\"] = train_dataset[\"CryoSleep\"].astype(\"boolean\")\n",
    "train_dataset[\"VIP\"] = train_dataset[\"VIP\"].astype(\"boolean\")\n",
    "train_dataset[\"Destination\"] = train_dataset[\"Destination\"].astype('category')\n",
    "train_dataset[\"DestinationID\"] = train_dataset[\"Destination\"].cat.codes\n",
    "train_dataset[\"Cabin_group\"] = train_dataset[\"Cabin\"].str[0]\n",
    "train_dataset[\"Cabin_group\"] = train_dataset[\"Cabin_group\"].astype('category')\n",
    "train_dataset[\"Cabin_group_ID\"] = train_dataset[\"Cabin_group\"].cat.codes\n",
    "train_dataset[\"Cabin_type\"] = train_dataset[\"Cabin\"].str[-1]\n",
    "train_dataset[\"Cabin_type\"] = train_dataset[\"Cabin_type\"].astype('category')\n",
    "train_dataset[\"Cabin_type_ID\"] = train_dataset[\"Cabin_type\"].cat.codes"
   ]
  },
  {
   "cell_type": "code",
   "execution_count": 103,
   "id": "804ff101",
   "metadata": {},
   "outputs": [],
   "source": [
    "training_set = train_dataset[[\"CryoSleep\", \"Age\", \"VIP\", \"RoomService\", \n",
    "                              \"FoodCourt\", \"ShoppingMall\", \"Spa\", \"VRDeck\", \n",
    "                             \"FamilyID\", \"FamilySize\", \"HomePlanetID\", \n",
    "                              \"DestinationID\", \"Cabin_group_ID\", \"Cabin_type_ID\"]].fillna(False)"
   ]
  },
  {
   "cell_type": "code",
   "execution_count": 127,
   "id": "97c19500",
   "metadata": {},
   "outputs": [],
   "source": [
    "val_indices = np.random.choice(np.arange(training_set.shape[0]), 2000, replace = False)\n",
    "not_val_mask = ~np.isin(np.arange(training_set.shape[0]), val_indices)\n",
    "val_mask = np.zeros(training_set.shape[0], dtype=bool)\n",
    "val_mask[val_indices] = True"
   ]
  },
  {
   "cell_type": "markdown",
   "id": "6ce9b824",
   "metadata": {},
   "source": [
    "# Prepare submission"
   ]
  },
  {
   "cell_type": "code",
   "execution_count": 181,
   "id": "bff189a3",
   "metadata": {},
   "outputs": [],
   "source": [
    "test_dataset = pd.read_csv(\"test.csv\")\n",
    "\n",
    "test_dataset[\"FamilyID\"] = test_dataset[\"PassengerId\"].str[:4].astype(\"int\")\n",
    "test_dataset[\"FamilySize\"] = test_dataset.join(test_dataset.groupby(\"FamilyID\").count()[\"PassengerId\"]\n",
    "                                                , on=\"FamilyID\"\n",
    "                                                , how=\"left\"\n",
    "                                                , rsuffix='_r'\n",
    "                                                )[\"PassengerId_r\"]\n",
    "\n",
    "HP_cats = train_dataset.groupby([\"HomePlanet\",\"HomePlanetID\"]).count()\n",
    "HP_cats = HP_cats[HP_cats[\"PassengerId\"] > 0][\"PassengerId\"]\n",
    "HP_cats = HP_cats.reset_index().set_index(\"HomePlanet\")\n",
    "test_dataset[\"HomePlanet\"] = test_dataset[\"HomePlanet\"].astype('category')\n",
    "test_dataset[\"HomePlanetID\"] = test_dataset.join(HP_cats\n",
    "                                                , on=\"HomePlanet\"\n",
    "                                                , how=\"left\"\n",
    "                                                , rsuffix='_r'\n",
    "                                                )[\"HomePlanetID\"]\n",
    "test_dataset[\"CryoSleep\"] = test_dataset[\"CryoSleep\"].astype(\"boolean\")\n",
    "test_dataset[\"VIP\"] = test_dataset[\"VIP\"].astype(\"boolean\")\n",
    "\n",
    "DST_cats = train_dataset.groupby([\"Destination\",\"DestinationID\"]).count()\n",
    "DST_cats = DST_cats[DST_cats[\"PassengerId\"] > 0][\"PassengerId\"]\n",
    "DST_cats = DST_cats.reset_index().set_index(\"Destination\")\n",
    "test_dataset[\"Destination\"] = train_dataset[\"Destination\"].astype('category')\n",
    "test_dataset[\"DestinationID\"] = test_dataset.join(DST_cats\n",
    "                                                , on=\"Destination\"\n",
    "                                                , how=\"left\"\n",
    "                                                , rsuffix='_r'\n",
    "                                                )[\"DestinationID\"]\n",
    "\n",
    "CG_cats = train_dataset.groupby([\"Cabin_group\",\"Cabin_group_ID\"]).count()\n",
    "CG_cats = CG_cats[CG_cats[\"PassengerId\"] > 0][\"PassengerId\"]\n",
    "CG_cats = CG_cats.reset_index().set_index(\"Cabin_group\")\n",
    "test_dataset[\"Cabin_group\"] = train_dataset[\"Cabin\"].str[0]\n",
    "test_dataset[\"Cabin_group\"] = train_dataset[\"Cabin_group\"].astype('category')\n",
    "test_dataset[\"Cabin_group_ID\"] = test_dataset.join(CG_cats\n",
    "                                                , on=\"Cabin_group\"\n",
    "                                                , how=\"left\"\n",
    "                                                , rsuffix='_r'\n",
    "                                                )[\"Cabin_group_ID\"]\n",
    "\n",
    "CT_cats = train_dataset.groupby([\"Cabin_type\",\"Cabin_type_ID\"]).count()\n",
    "CT_cats = CT_cats[CT_cats[\"PassengerId\"] > 0][\"PassengerId\"]\n",
    "CT_cats = CT_cats.reset_index().set_index(\"Cabin_type\")\n",
    "test_dataset[\"Cabin_type\"] = train_dataset[\"Cabin\"].str[-1]\n",
    "test_dataset[\"Cabin_type\"] = train_dataset[\"Cabin_type\"].astype('category')\n",
    "test_dataset[\"Cabin_type_ID\"] = test_dataset.join(CT_cats\n",
    "                                                , on=\"Cabin_type\"\n",
    "                                                , how=\"left\"\n",
    "                                                , rsuffix='_r'\n",
    "                                                )[\"Cabin_type_ID\"]"
   ]
  },
  {
   "cell_type": "code",
   "execution_count": 182,
   "id": "eef8d768",
   "metadata": {},
   "outputs": [],
   "source": [
    "testing_set = test_dataset[[\"CryoSleep\", \"Age\", \"VIP\", \"RoomService\", \n",
    "                              \"FoodCourt\", \"ShoppingMall\", \"Spa\", \"VRDeck\", \n",
    "                             \"FamilyID\", \"FamilySize\", \"HomePlanetID\", \n",
    "                              \"DestinationID\", \"Cabin_group_ID\", \"Cabin_type_ID\"]].fillna(False)"
   ]
  },
  {
   "cell_type": "markdown",
   "id": "4230004f",
   "metadata": {},
   "source": [
    "# DecisionTree"
   ]
  },
  {
   "cell_type": "code",
   "execution_count": 134,
   "id": "7266ea6f",
   "metadata": {},
   "outputs": [
    {
     "data": {
      "text/html": [
       "<style>#sk-container-id-8 {color: black;background-color: white;}#sk-container-id-8 pre{padding: 0;}#sk-container-id-8 div.sk-toggleable {background-color: white;}#sk-container-id-8 label.sk-toggleable__label {cursor: pointer;display: block;width: 100%;margin-bottom: 0;padding: 0.3em;box-sizing: border-box;text-align: center;}#sk-container-id-8 label.sk-toggleable__label-arrow:before {content: \"▸\";float: left;margin-right: 0.25em;color: #696969;}#sk-container-id-8 label.sk-toggleable__label-arrow:hover:before {color: black;}#sk-container-id-8 div.sk-estimator:hover label.sk-toggleable__label-arrow:before {color: black;}#sk-container-id-8 div.sk-toggleable__content {max-height: 0;max-width: 0;overflow: hidden;text-align: left;background-color: #f0f8ff;}#sk-container-id-8 div.sk-toggleable__content pre {margin: 0.2em;color: black;border-radius: 0.25em;background-color: #f0f8ff;}#sk-container-id-8 input.sk-toggleable__control:checked~div.sk-toggleable__content {max-height: 200px;max-width: 100%;overflow: auto;}#sk-container-id-8 input.sk-toggleable__control:checked~label.sk-toggleable__label-arrow:before {content: \"▾\";}#sk-container-id-8 div.sk-estimator input.sk-toggleable__control:checked~label.sk-toggleable__label {background-color: #d4ebff;}#sk-container-id-8 div.sk-label input.sk-toggleable__control:checked~label.sk-toggleable__label {background-color: #d4ebff;}#sk-container-id-8 input.sk-hidden--visually {border: 0;clip: rect(1px 1px 1px 1px);clip: rect(1px, 1px, 1px, 1px);height: 1px;margin: -1px;overflow: hidden;padding: 0;position: absolute;width: 1px;}#sk-container-id-8 div.sk-estimator {font-family: monospace;background-color: #f0f8ff;border: 1px dotted black;border-radius: 0.25em;box-sizing: border-box;margin-bottom: 0.5em;}#sk-container-id-8 div.sk-estimator:hover {background-color: #d4ebff;}#sk-container-id-8 div.sk-parallel-item::after {content: \"\";width: 100%;border-bottom: 1px solid gray;flex-grow: 1;}#sk-container-id-8 div.sk-label:hover label.sk-toggleable__label {background-color: #d4ebff;}#sk-container-id-8 div.sk-serial::before {content: \"\";position: absolute;border-left: 1px solid gray;box-sizing: border-box;top: 0;bottom: 0;left: 50%;z-index: 0;}#sk-container-id-8 div.sk-serial {display: flex;flex-direction: column;align-items: center;background-color: white;padding-right: 0.2em;padding-left: 0.2em;position: relative;}#sk-container-id-8 div.sk-item {position: relative;z-index: 1;}#sk-container-id-8 div.sk-parallel {display: flex;align-items: stretch;justify-content: center;background-color: white;position: relative;}#sk-container-id-8 div.sk-item::before, #sk-container-id-8 div.sk-parallel-item::before {content: \"\";position: absolute;border-left: 1px solid gray;box-sizing: border-box;top: 0;bottom: 0;left: 50%;z-index: -1;}#sk-container-id-8 div.sk-parallel-item {display: flex;flex-direction: column;z-index: 1;position: relative;background-color: white;}#sk-container-id-8 div.sk-parallel-item:first-child::after {align-self: flex-end;width: 50%;}#sk-container-id-8 div.sk-parallel-item:last-child::after {align-self: flex-start;width: 50%;}#sk-container-id-8 div.sk-parallel-item:only-child::after {width: 0;}#sk-container-id-8 div.sk-dashed-wrapped {border: 1px dashed gray;margin: 0 0.4em 0.5em 0.4em;box-sizing: border-box;padding-bottom: 0.4em;background-color: white;}#sk-container-id-8 div.sk-label label {font-family: monospace;font-weight: bold;display: inline-block;line-height: 1.2em;}#sk-container-id-8 div.sk-label-container {text-align: center;}#sk-container-id-8 div.sk-container {/* jupyter's `normalize.less` sets `[hidden] { display: none; }` but bootstrap.min.css set `[hidden] { display: none !important; }` so we also need the `!important` here to be able to override the default hidden behavior on the sphinx rendered scikit-learn.org. See: https://github.com/scikit-learn/scikit-learn/issues/21755 */display: inline-block !important;position: relative;}#sk-container-id-8 div.sk-text-repr-fallback {display: none;}</style><div id=\"sk-container-id-8\" class=\"sk-top-container\"><div class=\"sk-text-repr-fallback\"><pre>DecisionTreeClassifier(max_depth=50)</pre><b>In a Jupyter environment, please rerun this cell to show the HTML representation or trust the notebook. <br />On GitHub, the HTML representation is unable to render, please try loading this page with nbviewer.org.</b></div><div class=\"sk-container\" hidden><div class=\"sk-item\"><div class=\"sk-estimator sk-toggleable\"><input class=\"sk-toggleable__control sk-hidden--visually\" id=\"sk-estimator-id-8\" type=\"checkbox\" checked><label for=\"sk-estimator-id-8\" class=\"sk-toggleable__label sk-toggleable__label-arrow\">DecisionTreeClassifier</label><div class=\"sk-toggleable__content\"><pre>DecisionTreeClassifier(max_depth=50)</pre></div></div></div></div></div>"
      ],
      "text/plain": [
       "DecisionTreeClassifier(max_depth=50)"
      ]
     },
     "execution_count": 134,
     "metadata": {},
     "output_type": "execute_result"
    }
   ],
   "source": [
    "dtc = DecisionTreeClassifier(max_depth = 50)\n",
    "dtc.fit(training_set[not_val_mask], train_labels[not_val_mask])"
   ]
  },
  {
   "cell_type": "code",
   "execution_count": 135,
   "id": "f21e6c4a",
   "metadata": {},
   "outputs": [
    {
     "data": {
      "text/plain": [
       "('train', 1.0, 'val', 0.741)"
      ]
     },
     "execution_count": 135,
     "metadata": {},
     "output_type": "execute_result"
    }
   ],
   "source": [
    "('train' , dtc.score(training_set[not_val_mask], train_labels[not_val_mask])\n",
    ", 'val' , dtc.score(training_set[val_mask], train_labels[val_mask]))"
   ]
  },
  {
   "cell_type": "code",
   "execution_count": 138,
   "id": "4ba347e3",
   "metadata": {},
   "outputs": [
    {
     "data": {
      "text/plain": [
       "0.735444330949949"
      ]
     },
     "execution_count": 138,
     "metadata": {},
     "output_type": "execute_result"
    }
   ],
   "source": [
    "f1_score(dtc.predict(training_set[val_mask]), train_labels[val_mask])"
   ]
  },
  {
   "cell_type": "code",
   "execution_count": 190,
   "id": "41a677cd",
   "metadata": {},
   "outputs": [
    {
     "name": "stderr",
     "output_type": "stream",
     "text": [
      "C:\\Users\\hp\\AppData\\Local\\Temp\\ipykernel_23468\\1544376646.py:2: SettingWithCopyWarning: \n",
      "A value is trying to be set on a copy of a slice from a DataFrame.\n",
      "Try using .loc[row_indexer,col_indexer] = value instead\n",
      "\n",
      "See the caveats in the documentation: https://pandas.pydata.org/pandas-docs/stable/user_guide/indexing.html#returning-a-view-versus-a-copy\n",
      "  dts_result[\"Transported\"] = dtc.predict(testing_set)\n"
     ]
    }
   ],
   "source": [
    "dts_result = test_dataset[[\"PassengerId\"]]\n",
    "dts_result[\"Transported\"] = dtc.predict(testing_set)\n",
    "dts_result.to_csv(\"DTS_result.csv\", index=False)"
   ]
  },
  {
   "cell_type": "markdown",
   "id": "26161d97",
   "metadata": {},
   "source": [
    "# Random forest"
   ]
  },
  {
   "cell_type": "code",
   "execution_count": 332,
   "id": "3642278b",
   "metadata": {},
   "outputs": [
    {
     "data": {
      "text/html": [
       "<style>#sk-container-id-13 {color: black;background-color: white;}#sk-container-id-13 pre{padding: 0;}#sk-container-id-13 div.sk-toggleable {background-color: white;}#sk-container-id-13 label.sk-toggleable__label {cursor: pointer;display: block;width: 100%;margin-bottom: 0;padding: 0.3em;box-sizing: border-box;text-align: center;}#sk-container-id-13 label.sk-toggleable__label-arrow:before {content: \"▸\";float: left;margin-right: 0.25em;color: #696969;}#sk-container-id-13 label.sk-toggleable__label-arrow:hover:before {color: black;}#sk-container-id-13 div.sk-estimator:hover label.sk-toggleable__label-arrow:before {color: black;}#sk-container-id-13 div.sk-toggleable__content {max-height: 0;max-width: 0;overflow: hidden;text-align: left;background-color: #f0f8ff;}#sk-container-id-13 div.sk-toggleable__content pre {margin: 0.2em;color: black;border-radius: 0.25em;background-color: #f0f8ff;}#sk-container-id-13 input.sk-toggleable__control:checked~div.sk-toggleable__content {max-height: 200px;max-width: 100%;overflow: auto;}#sk-container-id-13 input.sk-toggleable__control:checked~label.sk-toggleable__label-arrow:before {content: \"▾\";}#sk-container-id-13 div.sk-estimator input.sk-toggleable__control:checked~label.sk-toggleable__label {background-color: #d4ebff;}#sk-container-id-13 div.sk-label input.sk-toggleable__control:checked~label.sk-toggleable__label {background-color: #d4ebff;}#sk-container-id-13 input.sk-hidden--visually {border: 0;clip: rect(1px 1px 1px 1px);clip: rect(1px, 1px, 1px, 1px);height: 1px;margin: -1px;overflow: hidden;padding: 0;position: absolute;width: 1px;}#sk-container-id-13 div.sk-estimator {font-family: monospace;background-color: #f0f8ff;border: 1px dotted black;border-radius: 0.25em;box-sizing: border-box;margin-bottom: 0.5em;}#sk-container-id-13 div.sk-estimator:hover {background-color: #d4ebff;}#sk-container-id-13 div.sk-parallel-item::after {content: \"\";width: 100%;border-bottom: 1px solid gray;flex-grow: 1;}#sk-container-id-13 div.sk-label:hover label.sk-toggleable__label {background-color: #d4ebff;}#sk-container-id-13 div.sk-serial::before {content: \"\";position: absolute;border-left: 1px solid gray;box-sizing: border-box;top: 0;bottom: 0;left: 50%;z-index: 0;}#sk-container-id-13 div.sk-serial {display: flex;flex-direction: column;align-items: center;background-color: white;padding-right: 0.2em;padding-left: 0.2em;position: relative;}#sk-container-id-13 div.sk-item {position: relative;z-index: 1;}#sk-container-id-13 div.sk-parallel {display: flex;align-items: stretch;justify-content: center;background-color: white;position: relative;}#sk-container-id-13 div.sk-item::before, #sk-container-id-13 div.sk-parallel-item::before {content: \"\";position: absolute;border-left: 1px solid gray;box-sizing: border-box;top: 0;bottom: 0;left: 50%;z-index: -1;}#sk-container-id-13 div.sk-parallel-item {display: flex;flex-direction: column;z-index: 1;position: relative;background-color: white;}#sk-container-id-13 div.sk-parallel-item:first-child::after {align-self: flex-end;width: 50%;}#sk-container-id-13 div.sk-parallel-item:last-child::after {align-self: flex-start;width: 50%;}#sk-container-id-13 div.sk-parallel-item:only-child::after {width: 0;}#sk-container-id-13 div.sk-dashed-wrapped {border: 1px dashed gray;margin: 0 0.4em 0.5em 0.4em;box-sizing: border-box;padding-bottom: 0.4em;background-color: white;}#sk-container-id-13 div.sk-label label {font-family: monospace;font-weight: bold;display: inline-block;line-height: 1.2em;}#sk-container-id-13 div.sk-label-container {text-align: center;}#sk-container-id-13 div.sk-container {/* jupyter's `normalize.less` sets `[hidden] { display: none; }` but bootstrap.min.css set `[hidden] { display: none !important; }` so we also need the `!important` here to be able to override the default hidden behavior on the sphinx rendered scikit-learn.org. See: https://github.com/scikit-learn/scikit-learn/issues/21755 */display: inline-block !important;position: relative;}#sk-container-id-13 div.sk-text-repr-fallback {display: none;}</style><div id=\"sk-container-id-13\" class=\"sk-top-container\"><div class=\"sk-text-repr-fallback\"><pre>RandomForestClassifier(n_estimators=50)</pre><b>In a Jupyter environment, please rerun this cell to show the HTML representation or trust the notebook. <br />On GitHub, the HTML representation is unable to render, please try loading this page with nbviewer.org.</b></div><div class=\"sk-container\" hidden><div class=\"sk-item\"><div class=\"sk-estimator sk-toggleable\"><input class=\"sk-toggleable__control sk-hidden--visually\" id=\"sk-estimator-id-13\" type=\"checkbox\" checked><label for=\"sk-estimator-id-13\" class=\"sk-toggleable__label sk-toggleable__label-arrow\">RandomForestClassifier</label><div class=\"sk-toggleable__content\"><pre>RandomForestClassifier(n_estimators=50)</pre></div></div></div></div></div>"
      ],
      "text/plain": [
       "RandomForestClassifier(n_estimators=50)"
      ]
     },
     "execution_count": 332,
     "metadata": {},
     "output_type": "execute_result"
    }
   ],
   "source": [
    "rfc = RandomForestClassifier(n_estimators = 50)\n",
    "rfc.fit(training_set[not_val_mask], train_labels[not_val_mask])"
   ]
  },
  {
   "cell_type": "code",
   "execution_count": 333,
   "id": "10fa5c87",
   "metadata": {},
   "outputs": [
    {
     "data": {
      "text/plain": [
       "('train', 0.9998505901688332, 'val', 0.7925, 'xF1', 0.7821522309711286)"
      ]
     },
     "execution_count": 333,
     "metadata": {},
     "output_type": "execute_result"
    }
   ],
   "source": [
    "('train' , rfc.score(training_set[not_val_mask], train_labels[not_val_mask])\n",
    ", 'val' , rfc.score(training_set[val_mask], train_labels[val_mask])\n",
    ", 'xF1', f1_score(rfc.predict(training_set[val_mask]), train_labels[val_mask]))"
   ]
  },
  {
   "cell_type": "code",
   "execution_count": 334,
   "id": "06a44ef4",
   "metadata": {},
   "outputs": [
    {
     "name": "stderr",
     "output_type": "stream",
     "text": [
      "C:\\Users\\hp\\AppData\\Local\\Temp\\ipykernel_23468\\2173469091.py:2: SettingWithCopyWarning: \n",
      "A value is trying to be set on a copy of a slice from a DataFrame.\n",
      "Try using .loc[row_indexer,col_indexer] = value instead\n",
      "\n",
      "See the caveats in the documentation: https://pandas.pydata.org/pandas-docs/stable/user_guide/indexing.html#returning-a-view-versus-a-copy\n",
      "  rfc_result[\"Transported\"] = rfc.predict(testing_set)\n"
     ]
    }
   ],
   "source": [
    "rfc_result = test_dataset[[\"PassengerId\"]]\n",
    "rfc_result[\"Transported\"] = rfc.predict(testing_set)\n",
    "rfc_result.to_csv(\"RFC_result.csv\", index=False)"
   ]
  },
  {
   "cell_type": "markdown",
   "id": "e84c07ab",
   "metadata": {},
   "source": [
    "# AdaBoost"
   ]
  },
  {
   "cell_type": "code",
   "execution_count": 342,
   "id": "af8b27a6",
   "metadata": {},
   "outputs": [
    {
     "data": {
      "text/html": [
       "<style>#sk-container-id-17 {color: black;background-color: white;}#sk-container-id-17 pre{padding: 0;}#sk-container-id-17 div.sk-toggleable {background-color: white;}#sk-container-id-17 label.sk-toggleable__label {cursor: pointer;display: block;width: 100%;margin-bottom: 0;padding: 0.3em;box-sizing: border-box;text-align: center;}#sk-container-id-17 label.sk-toggleable__label-arrow:before {content: \"▸\";float: left;margin-right: 0.25em;color: #696969;}#sk-container-id-17 label.sk-toggleable__label-arrow:hover:before {color: black;}#sk-container-id-17 div.sk-estimator:hover label.sk-toggleable__label-arrow:before {color: black;}#sk-container-id-17 div.sk-toggleable__content {max-height: 0;max-width: 0;overflow: hidden;text-align: left;background-color: #f0f8ff;}#sk-container-id-17 div.sk-toggleable__content pre {margin: 0.2em;color: black;border-radius: 0.25em;background-color: #f0f8ff;}#sk-container-id-17 input.sk-toggleable__control:checked~div.sk-toggleable__content {max-height: 200px;max-width: 100%;overflow: auto;}#sk-container-id-17 input.sk-toggleable__control:checked~label.sk-toggleable__label-arrow:before {content: \"▾\";}#sk-container-id-17 div.sk-estimator input.sk-toggleable__control:checked~label.sk-toggleable__label {background-color: #d4ebff;}#sk-container-id-17 div.sk-label input.sk-toggleable__control:checked~label.sk-toggleable__label {background-color: #d4ebff;}#sk-container-id-17 input.sk-hidden--visually {border: 0;clip: rect(1px 1px 1px 1px);clip: rect(1px, 1px, 1px, 1px);height: 1px;margin: -1px;overflow: hidden;padding: 0;position: absolute;width: 1px;}#sk-container-id-17 div.sk-estimator {font-family: monospace;background-color: #f0f8ff;border: 1px dotted black;border-radius: 0.25em;box-sizing: border-box;margin-bottom: 0.5em;}#sk-container-id-17 div.sk-estimator:hover {background-color: #d4ebff;}#sk-container-id-17 div.sk-parallel-item::after {content: \"\";width: 100%;border-bottom: 1px solid gray;flex-grow: 1;}#sk-container-id-17 div.sk-label:hover label.sk-toggleable__label {background-color: #d4ebff;}#sk-container-id-17 div.sk-serial::before {content: \"\";position: absolute;border-left: 1px solid gray;box-sizing: border-box;top: 0;bottom: 0;left: 50%;z-index: 0;}#sk-container-id-17 div.sk-serial {display: flex;flex-direction: column;align-items: center;background-color: white;padding-right: 0.2em;padding-left: 0.2em;position: relative;}#sk-container-id-17 div.sk-item {position: relative;z-index: 1;}#sk-container-id-17 div.sk-parallel {display: flex;align-items: stretch;justify-content: center;background-color: white;position: relative;}#sk-container-id-17 div.sk-item::before, #sk-container-id-17 div.sk-parallel-item::before {content: \"\";position: absolute;border-left: 1px solid gray;box-sizing: border-box;top: 0;bottom: 0;left: 50%;z-index: -1;}#sk-container-id-17 div.sk-parallel-item {display: flex;flex-direction: column;z-index: 1;position: relative;background-color: white;}#sk-container-id-17 div.sk-parallel-item:first-child::after {align-self: flex-end;width: 50%;}#sk-container-id-17 div.sk-parallel-item:last-child::after {align-self: flex-start;width: 50%;}#sk-container-id-17 div.sk-parallel-item:only-child::after {width: 0;}#sk-container-id-17 div.sk-dashed-wrapped {border: 1px dashed gray;margin: 0 0.4em 0.5em 0.4em;box-sizing: border-box;padding-bottom: 0.4em;background-color: white;}#sk-container-id-17 div.sk-label label {font-family: monospace;font-weight: bold;display: inline-block;line-height: 1.2em;}#sk-container-id-17 div.sk-label-container {text-align: center;}#sk-container-id-17 div.sk-container {/* jupyter's `normalize.less` sets `[hidden] { display: none; }` but bootstrap.min.css set `[hidden] { display: none !important; }` so we also need the `!important` here to be able to override the default hidden behavior on the sphinx rendered scikit-learn.org. See: https://github.com/scikit-learn/scikit-learn/issues/21755 */display: inline-block !important;position: relative;}#sk-container-id-17 div.sk-text-repr-fallback {display: none;}</style><div id=\"sk-container-id-17\" class=\"sk-top-container\"><div class=\"sk-text-repr-fallback\"><pre>AdaBoostClassifier(n_estimators=100)</pre><b>In a Jupyter environment, please rerun this cell to show the HTML representation or trust the notebook. <br />On GitHub, the HTML representation is unable to render, please try loading this page with nbviewer.org.</b></div><div class=\"sk-container\" hidden><div class=\"sk-item\"><div class=\"sk-estimator sk-toggleable\"><input class=\"sk-toggleable__control sk-hidden--visually\" id=\"sk-estimator-id-17\" type=\"checkbox\" checked><label for=\"sk-estimator-id-17\" class=\"sk-toggleable__label sk-toggleable__label-arrow\">AdaBoostClassifier</label><div class=\"sk-toggleable__content\"><pre>AdaBoostClassifier(n_estimators=100)</pre></div></div></div></div></div>"
      ],
      "text/plain": [
       "AdaBoostClassifier(n_estimators=100)"
      ]
     },
     "execution_count": 342,
     "metadata": {},
     "output_type": "execute_result"
    }
   ],
   "source": [
    "abc = AdaBoostClassifier(n_estimators=100)\n",
    "abc.fit(training_set[not_val_mask], train_labels[not_val_mask])"
   ]
  },
  {
   "cell_type": "code",
   "execution_count": 343,
   "id": "6f50ccdd",
   "metadata": {},
   "outputs": [
    {
     "data": {
      "text/plain": [
       "('train', 0.8083071866128791, 'val', 0.784, 'xF1', 0.7863501483679525)"
      ]
     },
     "execution_count": 343,
     "metadata": {},
     "output_type": "execute_result"
    }
   ],
   "source": [
    "('train' , abc.score(training_set[not_val_mask], train_labels[not_val_mask])\n",
    ", 'val' , abc.score(training_set[val_mask], train_labels[val_mask])\n",
    ", 'xF1', f1_score(abc.predict(training_set[val_mask]), train_labels[val_mask]))"
   ]
  },
  {
   "cell_type": "code",
   "execution_count": null,
   "id": "9fc3e02c",
   "metadata": {},
   "outputs": [],
   "source": []
  },
  {
   "cell_type": "markdown",
   "id": "3d308a23",
   "metadata": {},
   "source": [
    "# NN"
   ]
  },
  {
   "cell_type": "code",
   "execution_count": 271,
   "id": "6d5443ba",
   "metadata": {},
   "outputs": [
    {
     "name": "stdout",
     "output_type": "stream",
     "text": [
      "Model: \"Titanic\"\n",
      "_________________________________________________________________\n",
      " Layer (type)                Output Shape              Param #   \n",
      "=================================================================\n",
      " input_8 (InputLayer)        [(None, 14)]              0         \n",
      "                                                                 \n",
      " dense_17 (Dense)            (None, 1)                 15        \n",
      "                                                                 \n",
      "=================================================================\n",
      "Total params: 15\n",
      "Trainable params: 15\n",
      "Non-trainable params: 0\n",
      "_________________________________________________________________\n"
     ]
    }
   ],
   "source": [
    "inputs = tf.keras.Input(shape=(14))\n",
    "outputs = tf.keras.layers.Dense(1, activation='sigmoid')(inputs)\n",
    "\n",
    "NN_model = tf.keras.Model(inputs=inputs, outputs=outputs, name='Titanic')\n",
    "NN_model.summary()"
   ]
  },
  {
   "cell_type": "code",
   "execution_count": 272,
   "id": "600c890d",
   "metadata": {},
   "outputs": [],
   "source": [
    "NN_model.compile(\n",
    "    loss=tf.keras.losses.BinaryCrossentropy(),\n",
    "    optimizer=tf.keras.optimizers.Adam(),\n",
    "    metrics=[tf.keras.metrics.Accuracy()],\n",
    ")"
   ]
  },
  {
   "cell_type": "code",
   "execution_count": 266,
   "id": "bf1ab4ef",
   "metadata": {},
   "outputs": [],
   "source": [
    "training_set_normalized = (training_set.astype(\"float\")-training_set.astype(\"float\").mean())/training_set.astype(\"float\").std()"
   ]
  },
  {
   "cell_type": "code",
   "execution_count": 273,
   "id": "ea067481",
   "metadata": {
    "scrolled": true
   },
   "outputs": [
    {
     "name": "stdout",
     "output_type": "stream",
     "text": [
      "Epoch 1/100\n",
      "210/210 [==============================] - 1s 2ms/step - loss: 0.9643 - accuracy: 0.0000e+00 - val_loss: 0.8820 - val_accuracy: 0.0000e+00\n",
      "Epoch 2/100\n",
      "210/210 [==============================] - 0s 2ms/step - loss: 0.7969 - accuracy: 0.0000e+00 - val_loss: 0.7406 - val_accuracy: 0.0000e+00\n",
      "Epoch 3/100\n",
      "210/210 [==============================] - 0s 2ms/step - loss: 0.6827 - accuracy: 0.0000e+00 - val_loss: 0.6486 - val_accuracy: 0.0000e+00\n",
      "Epoch 4/100\n",
      "210/210 [==============================] - 0s 2ms/step - loss: 0.6084 - accuracy: 0.0000e+00 - val_loss: 0.5897 - val_accuracy: 0.0000e+00\n",
      "Epoch 5/100\n",
      "210/210 [==============================] - 0s 2ms/step - loss: 0.5611 - accuracy: 0.0000e+00 - val_loss: 0.5517 - val_accuracy: 0.0000e+00\n",
      "Epoch 6/100\n",
      "210/210 [==============================] - 0s 2ms/step - loss: 0.5305 - accuracy: 0.0000e+00 - val_loss: 0.5272 - val_accuracy: 0.0000e+00\n",
      "Epoch 7/100\n",
      "210/210 [==============================] - 0s 2ms/step - loss: 0.5100 - accuracy: 0.0000e+00 - val_loss: 0.5101 - val_accuracy: 0.0000e+00\n",
      "Epoch 8/100\n",
      "210/210 [==============================] - 0s 2ms/step - loss: 0.4960 - accuracy: 0.0000e+00 - val_loss: 0.4984 - val_accuracy: 0.0000e+00\n",
      "Epoch 9/100\n",
      "210/210 [==============================] - 0s 2ms/step - loss: 0.4862 - accuracy: 0.0000e+00 - val_loss: 0.4899 - val_accuracy: 0.0000e+00\n",
      "Epoch 10/100\n",
      "210/210 [==============================] - 0s 2ms/step - loss: 0.4789 - accuracy: 0.0000e+00 - val_loss: 0.4837 - val_accuracy: 0.0000e+00\n",
      "Epoch 11/100\n",
      "210/210 [==============================] - 0s 2ms/step - loss: 0.4736 - accuracy: 0.0000e+00 - val_loss: 0.4790 - val_accuracy: 0.0000e+00\n",
      "Epoch 12/100\n",
      "210/210 [==============================] - 0s 2ms/step - loss: 0.4695 - accuracy: 0.0000e+00 - val_loss: 0.4753 - val_accuracy: 0.0000e+00\n",
      "Epoch 13/100\n",
      "210/210 [==============================] - 0s 2ms/step - loss: 0.4663 - accuracy: 0.0000e+00 - val_loss: 0.4726 - val_accuracy: 0.0000e+00\n",
      "Epoch 14/100\n",
      "210/210 [==============================] - 0s 2ms/step - loss: 0.4637 - accuracy: 0.0000e+00 - val_loss: 0.4702 - val_accuracy: 0.0000e+00\n",
      "Epoch 15/100\n",
      "210/210 [==============================] - 0s 2ms/step - loss: 0.4616 - accuracy: 0.0000e+00 - val_loss: 0.4683 - val_accuracy: 0.0000e+00\n",
      "Epoch 16/100\n",
      "210/210 [==============================] - 0s 2ms/step - loss: 0.4598 - accuracy: 0.0000e+00 - val_loss: 0.4668 - val_accuracy: 0.0000e+00\n",
      "Epoch 17/100\n",
      "210/210 [==============================] - 0s 2ms/step - loss: 0.4583 - accuracy: 0.0000e+00 - val_loss: 0.4655 - val_accuracy: 0.0000e+00\n",
      "Epoch 18/100\n",
      "210/210 [==============================] - 0s 2ms/step - loss: 0.4570 - accuracy: 0.0000e+00 - val_loss: 0.4644 - val_accuracy: 0.0000e+00\n",
      "Epoch 19/100\n",
      "210/210 [==============================] - 0s 2ms/step - loss: 0.4559 - accuracy: 0.0000e+00 - val_loss: 0.4634 - val_accuracy: 0.0000e+00\n",
      "Epoch 20/100\n",
      "210/210 [==============================] - 0s 2ms/step - loss: 0.4549 - accuracy: 0.0000e+00 - val_loss: 0.4626 - val_accuracy: 0.0000e+00\n",
      "Epoch 21/100\n",
      "210/210 [==============================] - 0s 2ms/step - loss: 0.4541 - accuracy: 0.0000e+00 - val_loss: 0.4619 - val_accuracy: 0.0000e+00\n",
      "Epoch 22/100\n",
      "210/210 [==============================] - 0s 2ms/step - loss: 0.4533 - accuracy: 0.0000e+00 - val_loss: 0.4615 - val_accuracy: 0.0000e+00\n",
      "Epoch 23/100\n",
      "210/210 [==============================] - 0s 2ms/step - loss: 0.4526 - accuracy: 0.0000e+00 - val_loss: 0.4609 - val_accuracy: 0.0000e+00\n",
      "Epoch 24/100\n",
      "210/210 [==============================] - 0s 2ms/step - loss: 0.4521 - accuracy: 0.0000e+00 - val_loss: 0.4605 - val_accuracy: 0.0000e+00\n",
      "Epoch 25/100\n",
      "210/210 [==============================] - 0s 2ms/step - loss: 0.4516 - accuracy: 0.0000e+00 - val_loss: 0.4602 - val_accuracy: 0.0000e+00\n",
      "Epoch 26/100\n",
      "210/210 [==============================] - 0s 2ms/step - loss: 0.4510 - accuracy: 0.0000e+00 - val_loss: 0.4599 - val_accuracy: 0.0000e+00\n",
      "Epoch 27/100\n",
      "210/210 [==============================] - 0s 2ms/step - loss: 0.4506 - accuracy: 0.0000e+00 - val_loss: 0.4597 - val_accuracy: 0.0000e+00\n",
      "Epoch 28/100\n",
      "210/210 [==============================] - 0s 2ms/step - loss: 0.4502 - accuracy: 0.0000e+00 - val_loss: 0.4595 - val_accuracy: 0.0000e+00\n",
      "Epoch 29/100\n",
      "210/210 [==============================] - 0s 2ms/step - loss: 0.4500 - accuracy: 0.0000e+00 - val_loss: 0.4593 - val_accuracy: 0.0000e+00\n",
      "Epoch 30/100\n",
      "210/210 [==============================] - 0s 2ms/step - loss: 0.4497 - accuracy: 0.0000e+00 - val_loss: 0.4592 - val_accuracy: 0.0000e+00\n",
      "Epoch 31/100\n",
      "210/210 [==============================] - 0s 2ms/step - loss: 0.4494 - accuracy: 0.0000e+00 - val_loss: 0.4592 - val_accuracy: 0.0000e+00\n",
      "Epoch 32/100\n",
      "210/210 [==============================] - 0s 2ms/step - loss: 0.4491 - accuracy: 0.0000e+00 - val_loss: 0.4591 - val_accuracy: 0.0000e+00\n",
      "Epoch 33/100\n",
      "210/210 [==============================] - 0s 2ms/step - loss: 0.4490 - accuracy: 0.0000e+00 - val_loss: 0.4590 - val_accuracy: 0.0000e+00\n",
      "Epoch 34/100\n",
      "210/210 [==============================] - 0s 2ms/step - loss: 0.4489 - accuracy: 0.0000e+00 - val_loss: 0.4591 - val_accuracy: 0.0000e+00\n",
      "Epoch 35/100\n",
      "210/210 [==============================] - 0s 2ms/step - loss: 0.4487 - accuracy: 0.0000e+00 - val_loss: 0.4592 - val_accuracy: 0.0000e+00\n",
      "Epoch 36/100\n",
      "210/210 [==============================] - 0s 2ms/step - loss: 0.4485 - accuracy: 0.0000e+00 - val_loss: 0.4591 - val_accuracy: 0.0000e+00\n",
      "Epoch 37/100\n",
      "210/210 [==============================] - 0s 2ms/step - loss: 0.4484 - accuracy: 0.0000e+00 - val_loss: 0.4590 - val_accuracy: 0.0000e+00\n",
      "Epoch 38/100\n",
      "210/210 [==============================] - 0s 2ms/step - loss: 0.4483 - accuracy: 0.0000e+00 - val_loss: 0.4590 - val_accuracy: 0.0000e+00\n",
      "Epoch 39/100\n",
      "210/210 [==============================] - 0s 2ms/step - loss: 0.4482 - accuracy: 0.0000e+00 - val_loss: 0.4589 - val_accuracy: 0.0000e+00\n",
      "Epoch 40/100\n",
      "210/210 [==============================] - 0s 2ms/step - loss: 0.4481 - accuracy: 0.0000e+00 - val_loss: 0.4589 - val_accuracy: 0.0000e+00\n",
      "Epoch 41/100\n",
      "210/210 [==============================] - 0s 2ms/step - loss: 0.4480 - accuracy: 0.0000e+00 - val_loss: 0.4590 - val_accuracy: 0.0000e+00\n",
      "Epoch 42/100\n",
      "210/210 [==============================] - 0s 2ms/step - loss: 0.4480 - accuracy: 0.0000e+00 - val_loss: 0.4590 - val_accuracy: 0.0000e+00\n",
      "Epoch 43/100\n",
      "210/210 [==============================] - 0s 2ms/step - loss: 0.4478 - accuracy: 0.0000e+00 - val_loss: 0.4590 - val_accuracy: 0.0000e+00\n",
      "Epoch 44/100\n",
      "210/210 [==============================] - 0s 2ms/step - loss: 0.4478 - accuracy: 0.0000e+00 - val_loss: 0.4589 - val_accuracy: 0.0000e+00\n",
      "Epoch 45/100\n",
      "210/210 [==============================] - 0s 2ms/step - loss: 0.4478 - accuracy: 0.0000e+00 - val_loss: 0.4590 - val_accuracy: 0.0000e+00\n",
      "Epoch 46/100\n",
      "210/210 [==============================] - 0s 2ms/step - loss: 0.4477 - accuracy: 1.4941e-04 - val_loss: 0.4590 - val_accuracy: 0.0000e+00\n",
      "Epoch 47/100\n",
      "210/210 [==============================] - 0s 2ms/step - loss: 0.4477 - accuracy: 0.0000e+00 - val_loss: 0.4592 - val_accuracy: 0.0000e+00\n",
      "Epoch 48/100\n",
      "210/210 [==============================] - 0s 2ms/step - loss: 0.4476 - accuracy: 1.4941e-04 - val_loss: 0.4592 - val_accuracy: 0.0000e+00\n",
      "Epoch 49/100\n",
      "210/210 [==============================] - 0s 2ms/step - loss: 0.4477 - accuracy: 0.0000e+00 - val_loss: 0.4592 - val_accuracy: 0.0000e+00\n",
      "Epoch 50/100\n",
      "210/210 [==============================] - 0s 2ms/step - loss: 0.4476 - accuracy: 0.0000e+00 - val_loss: 0.4592 - val_accuracy: 0.0000e+00\n",
      "Epoch 51/100\n",
      "210/210 [==============================] - 0s 2ms/step - loss: 0.4476 - accuracy: 1.4941e-04 - val_loss: 0.4594 - val_accuracy: 0.0000e+00\n",
      "Epoch 52/100\n",
      "210/210 [==============================] - 0s 2ms/step - loss: 0.4475 - accuracy: 0.0000e+00 - val_loss: 0.4593 - val_accuracy: 0.0000e+00\n",
      "Epoch 53/100\n",
      "210/210 [==============================] - 0s 2ms/step - loss: 0.4475 - accuracy: 1.4941e-04 - val_loss: 0.4594 - val_accuracy: 0.0000e+00\n",
      "Epoch 54/100\n",
      "210/210 [==============================] - 0s 2ms/step - loss: 0.4474 - accuracy: 1.4941e-04 - val_loss: 0.4593 - val_accuracy: 0.0000e+00\n"
     ]
    },
    {
     "name": "stdout",
     "output_type": "stream",
     "text": [
      "Epoch 55/100\n",
      "210/210 [==============================] - 0s 2ms/step - loss: 0.4475 - accuracy: 1.4941e-04 - val_loss: 0.4594 - val_accuracy: 0.0000e+00\n",
      "Epoch 56/100\n",
      "210/210 [==============================] - 0s 2ms/step - loss: 0.4475 - accuracy: 1.4941e-04 - val_loss: 0.4594 - val_accuracy: 0.0000e+00\n",
      "Epoch 57/100\n",
      "210/210 [==============================] - 0s 2ms/step - loss: 0.4475 - accuracy: 1.4941e-04 - val_loss: 0.4595 - val_accuracy: 0.0000e+00\n",
      "Epoch 58/100\n",
      "210/210 [==============================] - 0s 2ms/step - loss: 0.4474 - accuracy: 1.4941e-04 - val_loss: 0.4595 - val_accuracy: 0.0000e+00\n",
      "Epoch 59/100\n",
      "210/210 [==============================] - 0s 2ms/step - loss: 0.4474 - accuracy: 1.4941e-04 - val_loss: 0.4595 - val_accuracy: 0.0000e+00\n",
      "Epoch 60/100\n",
      "210/210 [==============================] - 0s 2ms/step - loss: 0.4474 - accuracy: 1.4941e-04 - val_loss: 0.4595 - val_accuracy: 0.0000e+00\n",
      "Epoch 61/100\n",
      "210/210 [==============================] - 0s 2ms/step - loss: 0.4474 - accuracy: 1.4941e-04 - val_loss: 0.4596 - val_accuracy: 0.0000e+00\n",
      "Epoch 62/100\n",
      "210/210 [==============================] - 0s 2ms/step - loss: 0.4474 - accuracy: 1.4941e-04 - val_loss: 0.4597 - val_accuracy: 0.0000e+00\n",
      "Epoch 63/100\n",
      "210/210 [==============================] - 0s 2ms/step - loss: 0.4474 - accuracy: 1.4941e-04 - val_loss: 0.4596 - val_accuracy: 0.0000e+00\n",
      "Epoch 64/100\n",
      "210/210 [==============================] - 0s 2ms/step - loss: 0.4474 - accuracy: 2.9882e-04 - val_loss: 0.4596 - val_accuracy: 0.0000e+00\n",
      "Epoch 65/100\n",
      "210/210 [==============================] - 0s 2ms/step - loss: 0.4474 - accuracy: 2.9882e-04 - val_loss: 0.4598 - val_accuracy: 0.0000e+00\n",
      "Epoch 66/100\n",
      "210/210 [==============================] - 0s 2ms/step - loss: 0.4474 - accuracy: 2.9882e-04 - val_loss: 0.4597 - val_accuracy: 0.0000e+00\n",
      "Epoch 67/100\n",
      "210/210 [==============================] - 0s 2ms/step - loss: 0.4473 - accuracy: 1.4941e-04 - val_loss: 0.4597 - val_accuracy: 0.0000e+00\n",
      "Epoch 68/100\n",
      "210/210 [==============================] - 0s 2ms/step - loss: 0.4474 - accuracy: 1.4941e-04 - val_loss: 0.4597 - val_accuracy: 0.0000e+00\n",
      "Epoch 69/100\n",
      "210/210 [==============================] - 0s 2ms/step - loss: 0.4474 - accuracy: 2.9882e-04 - val_loss: 0.4596 - val_accuracy: 0.0000e+00\n",
      "Epoch 70/100\n",
      "210/210 [==============================] - 0s 2ms/step - loss: 0.4474 - accuracy: 1.4941e-04 - val_loss: 0.4597 - val_accuracy: 0.0000e+00\n",
      "Epoch 71/100\n",
      "210/210 [==============================] - 0s 2ms/step - loss: 0.4473 - accuracy: 2.9882e-04 - val_loss: 0.4597 - val_accuracy: 0.0000e+00\n",
      "Epoch 72/100\n",
      "210/210 [==============================] - 0s 2ms/step - loss: 0.4473 - accuracy: 1.4941e-04 - val_loss: 0.4599 - val_accuracy: 0.0000e+00\n",
      "Epoch 73/100\n",
      "210/210 [==============================] - 0s 2ms/step - loss: 0.4474 - accuracy: 1.4941e-04 - val_loss: 0.4597 - val_accuracy: 0.0000e+00\n",
      "Epoch 74/100\n",
      "210/210 [==============================] - 0s 2ms/step - loss: 0.4474 - accuracy: 2.9882e-04 - val_loss: 0.4597 - val_accuracy: 0.0000e+00\n",
      "Epoch 75/100\n",
      "210/210 [==============================] - 0s 2ms/step - loss: 0.4474 - accuracy: 1.4941e-04 - val_loss: 0.4597 - val_accuracy: 0.0000e+00\n",
      "Epoch 76/100\n",
      "210/210 [==============================] - 0s 2ms/step - loss: 0.4473 - accuracy: 2.9882e-04 - val_loss: 0.4597 - val_accuracy: 0.0000e+00\n",
      "Epoch 77/100\n",
      "210/210 [==============================] - 0s 2ms/step - loss: 0.4474 - accuracy: 2.9882e-04 - val_loss: 0.4599 - val_accuracy: 0.0000e+00\n",
      "Epoch 78/100\n",
      "210/210 [==============================] - 0s 2ms/step - loss: 0.4473 - accuracy: 2.9882e-04 - val_loss: 0.4599 - val_accuracy: 0.0000e+00\n",
      "Epoch 79/100\n",
      "210/210 [==============================] - 0s 2ms/step - loss: 0.4473 - accuracy: 2.9882e-04 - val_loss: 0.4599 - val_accuracy: 0.0000e+00\n",
      "Epoch 80/100\n",
      "210/210 [==============================] - 0s 2ms/step - loss: 0.4473 - accuracy: 2.9882e-04 - val_loss: 0.4600 - val_accuracy: 0.0000e+00\n",
      "Epoch 81/100\n",
      "210/210 [==============================] - 0s 2ms/step - loss: 0.4473 - accuracy: 2.9882e-04 - val_loss: 0.4599 - val_accuracy: 0.0000e+00\n",
      "Epoch 82/100\n",
      "210/210 [==============================] - 0s 2ms/step - loss: 0.4474 - accuracy: 2.9882e-04 - val_loss: 0.4599 - val_accuracy: 0.0000e+00\n",
      "Epoch 83/100\n",
      "210/210 [==============================] - 0s 2ms/step - loss: 0.4474 - accuracy: 1.4941e-04 - val_loss: 0.4600 - val_accuracy: 0.0000e+00\n",
      "Epoch 84/100\n",
      "210/210 [==============================] - 0s 2ms/step - loss: 0.4474 - accuracy: 2.9882e-04 - val_loss: 0.4599 - val_accuracy: 0.0000e+00\n",
      "Epoch 85/100\n",
      "210/210 [==============================] - 0s 2ms/step - loss: 0.4473 - accuracy: 1.4941e-04 - val_loss: 0.4598 - val_accuracy: 0.0000e+00\n",
      "Epoch 86/100\n",
      "210/210 [==============================] - 0s 2ms/step - loss: 0.4474 - accuracy: 2.9882e-04 - val_loss: 0.4598 - val_accuracy: 0.0000e+00\n",
      "Epoch 87/100\n",
      "210/210 [==============================] - 0s 2ms/step - loss: 0.4473 - accuracy: 2.9882e-04 - val_loss: 0.4598 - val_accuracy: 0.0000e+00\n",
      "Epoch 88/100\n",
      "210/210 [==============================] - 0s 2ms/step - loss: 0.4474 - accuracy: 2.9882e-04 - val_loss: 0.4598 - val_accuracy: 0.0000e+00\n",
      "Epoch 89/100\n",
      "210/210 [==============================] - 0s 2ms/step - loss: 0.4473 - accuracy: 1.4941e-04 - val_loss: 0.4599 - val_accuracy: 0.0000e+00\n",
      "Epoch 90/100\n",
      "210/210 [==============================] - 0s 2ms/step - loss: 0.4473 - accuracy: 2.9882e-04 - val_loss: 0.4599 - val_accuracy: 0.0000e+00\n",
      "Epoch 91/100\n",
      "210/210 [==============================] - 0s 2ms/step - loss: 0.4474 - accuracy: 2.9882e-04 - val_loss: 0.4599 - val_accuracy: 0.0000e+00\n",
      "Epoch 92/100\n",
      "210/210 [==============================] - 0s 2ms/step - loss: 0.4474 - accuracy: 1.4941e-04 - val_loss: 0.4600 - val_accuracy: 0.0000e+00\n",
      "Epoch 93/100\n",
      "210/210 [==============================] - 0s 2ms/step - loss: 0.4473 - accuracy: 1.4941e-04 - val_loss: 0.4600 - val_accuracy: 0.0000e+00\n",
      "Epoch 94/100\n",
      "210/210 [==============================] - 0s 2ms/step - loss: 0.4474 - accuracy: 1.4941e-04 - val_loss: 0.4599 - val_accuracy: 0.0000e+00\n",
      "Epoch 95/100\n",
      "210/210 [==============================] - 0s 2ms/step - loss: 0.4473 - accuracy: 1.4941e-04 - val_loss: 0.4600 - val_accuracy: 0.0000e+00\n",
      "Epoch 96/100\n",
      "210/210 [==============================] - 0s 2ms/step - loss: 0.4474 - accuracy: 1.4941e-04 - val_loss: 0.4600 - val_accuracy: 0.0000e+00\n",
      "Epoch 97/100\n",
      "210/210 [==============================] - 0s 2ms/step - loss: 0.4473 - accuracy: 1.4941e-04 - val_loss: 0.4600 - val_accuracy: 0.0000e+00\n",
      "Epoch 98/100\n",
      "210/210 [==============================] - 0s 2ms/step - loss: 0.4473 - accuracy: 1.4941e-04 - val_loss: 0.4600 - val_accuracy: 0.0000e+00\n",
      "Epoch 99/100\n",
      "210/210 [==============================] - 0s 2ms/step - loss: 0.4473 - accuracy: 1.4941e-04 - val_loss: 0.4601 - val_accuracy: 0.0000e+00\n",
      "Epoch 100/100\n",
      "210/210 [==============================] - 0s 1ms/step - loss: 0.4473 - accuracy: 2.9882e-04 - val_loss: 0.4600 - val_accuracy: 0.0000e+00\n"
     ]
    },
    {
     "data": {
      "text/plain": [
       "<keras.callbacks.History at 0x2055e083c70>"
      ]
     },
     "execution_count": 273,
     "metadata": {},
     "output_type": "execute_result"
    }
   ],
   "source": [
    "NN_model.fit(training_set_normalized[not_val_mask].to_numpy().astype(\"float\")\n",
    "          , train_labels[not_val_mask].to_numpy().astype(\"int\")\n",
    "          , batch_size=32\n",
    "          , epochs=100\n",
    "          , validation_data = (training_set_normalized[val_mask].to_numpy().astype(\"float\")\n",
    "                              , train_labels[val_mask].to_numpy().astype(\"int\"))\n",
    "         )"
   ]
  },
  {
   "cell_type": "code",
   "execution_count": 277,
   "id": "0b719c94",
   "metadata": {},
   "outputs": [
    {
     "name": "stdout",
     "output_type": "stream",
     "text": [
      "63/63 [==============================] - 0s 904us/step\n"
     ]
    },
    {
     "data": {
      "text/plain": [
       "array([[1.8727875e-01],\n",
       "       [4.0741368e-05],\n",
       "       [2.7383476e-01],\n",
       "       ...,\n",
       "       [9.0467501e-01],\n",
       "       [6.6816503e-01],\n",
       "       [9.6475786e-01]], dtype=float32)"
      ]
     },
     "execution_count": 277,
     "metadata": {},
     "output_type": "execute_result"
    }
   ],
   "source": [
    "NN_model.predict(training_set_normalized[val_mask].to_numpy().astype(\"float\"))"
   ]
  },
  {
   "cell_type": "code",
   "execution_count": 294,
   "id": "7c3dc762",
   "metadata": {},
   "outputs": [
    {
     "name": "stdout",
     "output_type": "stream",
     "text": [
      "63/63 [==============================] - 0s 800us/step\n",
      "210/210 [==============================] - 0s 1ms/step - loss: 0.4470 - accuracy: 1.4941e-04\n",
      "63/63 [==============================] - 0s 1ms/step - loss: 0.4600 - accuracy: 0.0000e+00\n"
     ]
    },
    {
     "data": {
      "text/plain": [
       "('train',\n",
       " [0.4469642639160156, 0.00014940982509870082],\n",
       " 'val',\n",
       " [0.4599597454071045, 0.0],\n",
       " 'F1',\n",
       " 0.7901114881240912)"
      ]
     },
     "execution_count": 294,
     "metadata": {},
     "output_type": "execute_result"
    }
   ],
   "source": [
    "tau = 0.45\n",
    "def check_res(x, tau):\n",
    "    if x>=tau:\n",
    "        return 1\n",
    "    else:\n",
    "        return 0\n",
    "\n",
    "NN_res = np.vectorize(check_res)(NN_model.predict(training_set_normalized[val_mask].to_numpy().astype(\"float\")), tau)\n",
    "\n",
    "('train' , NN_model.evaluate(training_set_normalized[not_val_mask].to_numpy().astype(\"float\"), train_labels[not_val_mask])\n",
    ", 'val' , NN_model.evaluate(training_set_normalized[val_mask].to_numpy().astype(\"float\"), train_labels[val_mask])\n",
    ", 'F1' , f1_score(train_labels[val_mask].to_numpy().astype(\"int\"), NN_res))"
   ]
  },
  {
   "cell_type": "code",
   "execution_count": 295,
   "id": "dc42e201",
   "metadata": {},
   "outputs": [
    {
     "name": "stdout",
     "output_type": "stream",
     "text": [
      "134/134 [==============================] - 0s 902us/step\n"
     ]
    },
    {
     "name": "stderr",
     "output_type": "stream",
     "text": [
      "C:\\Users\\hp\\AppData\\Local\\Temp\\ipykernel_23468\\1210230977.py:4: SettingWithCopyWarning: \n",
      "A value is trying to be set on a copy of a slice from a DataFrame.\n",
      "Try using .loc[row_indexer,col_indexer] = value instead\n",
      "\n",
      "See the caveats in the documentation: https://pandas.pydata.org/pandas-docs/stable/user_guide/indexing.html#returning-a-view-versus-a-copy\n",
      "  nnd_result[\"Transported\"] = np.vectorize(check_res)(NN_model.predict(testing_set_normalized.to_numpy().astype(\"float\"))\n"
     ]
    },
    {
     "data": {
      "text/html": [
       "<div>\n",
       "<style scoped>\n",
       "    .dataframe tbody tr th:only-of-type {\n",
       "        vertical-align: middle;\n",
       "    }\n",
       "\n",
       "    .dataframe tbody tr th {\n",
       "        vertical-align: top;\n",
       "    }\n",
       "\n",
       "    .dataframe thead th {\n",
       "        text-align: right;\n",
       "    }\n",
       "</style>\n",
       "<table border=\"1\" class=\"dataframe\">\n",
       "  <thead>\n",
       "    <tr style=\"text-align: right;\">\n",
       "      <th></th>\n",
       "      <th>PassengerId</th>\n",
       "      <th>Transported</th>\n",
       "    </tr>\n",
       "  </thead>\n",
       "  <tbody>\n",
       "    <tr>\n",
       "      <th>0</th>\n",
       "      <td>0013_01</td>\n",
       "      <td>True</td>\n",
       "    </tr>\n",
       "    <tr>\n",
       "      <th>1</th>\n",
       "      <td>0018_01</td>\n",
       "      <td>False</td>\n",
       "    </tr>\n",
       "    <tr>\n",
       "      <th>2</th>\n",
       "      <td>0019_01</td>\n",
       "      <td>True</td>\n",
       "    </tr>\n",
       "    <tr>\n",
       "      <th>3</th>\n",
       "      <td>0021_01</td>\n",
       "      <td>True</td>\n",
       "    </tr>\n",
       "    <tr>\n",
       "      <th>4</th>\n",
       "      <td>0023_01</td>\n",
       "      <td>True</td>\n",
       "    </tr>\n",
       "    <tr>\n",
       "      <th>...</th>\n",
       "      <td>...</td>\n",
       "      <td>...</td>\n",
       "    </tr>\n",
       "    <tr>\n",
       "      <th>4272</th>\n",
       "      <td>9266_02</td>\n",
       "      <td>True</td>\n",
       "    </tr>\n",
       "    <tr>\n",
       "      <th>4273</th>\n",
       "      <td>9269_01</td>\n",
       "      <td>True</td>\n",
       "    </tr>\n",
       "    <tr>\n",
       "      <th>4274</th>\n",
       "      <td>9271_01</td>\n",
       "      <td>True</td>\n",
       "    </tr>\n",
       "    <tr>\n",
       "      <th>4275</th>\n",
       "      <td>9273_01</td>\n",
       "      <td>True</td>\n",
       "    </tr>\n",
       "    <tr>\n",
       "      <th>4276</th>\n",
       "      <td>9277_01</td>\n",
       "      <td>True</td>\n",
       "    </tr>\n",
       "  </tbody>\n",
       "</table>\n",
       "<p>4277 rows × 2 columns</p>\n",
       "</div>"
      ],
      "text/plain": [
       "     PassengerId  Transported\n",
       "0        0013_01         True\n",
       "1        0018_01        False\n",
       "2        0019_01         True\n",
       "3        0021_01         True\n",
       "4        0023_01         True\n",
       "...          ...          ...\n",
       "4272     9266_02         True\n",
       "4273     9269_01         True\n",
       "4274     9271_01         True\n",
       "4275     9273_01         True\n",
       "4276     9277_01         True\n",
       "\n",
       "[4277 rows x 2 columns]"
      ]
     },
     "execution_count": 295,
     "metadata": {},
     "output_type": "execute_result"
    }
   ],
   "source": [
    "testing_set_normalized = (testing_set.astype(\"float\")-training_set.astype(\"float\").mean())/training_set.astype(\"float\").std()\n",
    "\n",
    "nnd_result = test_dataset[[\"PassengerId\"]]\n",
    "nnd_result[\"Transported\"] = np.vectorize(check_res)(NN_model.predict(testing_set_normalized.to_numpy().astype(\"float\"))\n",
    "                                                    , tau).astype(\"bool\")\n",
    "nnd_result.to_csv(\"NN_dense_result.csv\", index=False)\n",
    "nnd_result\n"
   ]
  },
  {
   "cell_type": "markdown",
   "id": "10ca7428",
   "metadata": {},
   "source": [
    "# OLS"
   ]
  },
  {
   "cell_type": "code",
   "execution_count": 301,
   "id": "0d24a204",
   "metadata": {},
   "outputs": [
    {
     "data": {
      "text/plain": [
       "((6693, 14), (6693,))"
      ]
     },
     "execution_count": 301,
     "metadata": {},
     "output_type": "execute_result"
    }
   ],
   "source": [
    "X = training_set_normalized[not_val_mask].to_numpy().astype(\"float\")\n",
    "Y = train_labels[not_val_mask].astype(\"float\")\n",
    "X.shape, Y.shape"
   ]
  },
  {
   "cell_type": "code",
   "execution_count": 302,
   "id": "79add451",
   "metadata": {},
   "outputs": [],
   "source": [
    "W_ols = np.linalg.inv(X.T @ X)@X.T@Y"
   ]
  },
  {
   "cell_type": "code",
   "execution_count": 321,
   "id": "fc4b4f4f",
   "metadata": {},
   "outputs": [
    {
     "data": {
      "text/plain": [
       "('train', 0.7628865979381443, 'val', 0.752, 'F1', 0.7232142857142857)"
      ]
     },
     "execution_count": 321,
     "metadata": {},
     "output_type": "execute_result"
    }
   ],
   "source": [
    "tau = 0.03\n",
    "def check_res(x, tau):\n",
    "    if x>=tau:\n",
    "        return 1\n",
    "    else:\n",
    "        return 0\n",
    "\n",
    "NN_res = np.vectorize(check_res)(training_set_normalized[val_mask].to_numpy().astype(\"float\") @ W_ols, tau)\n",
    "\n",
    "('train' , accuracy_score(train_labels[not_val_mask].to_numpy().astype(\"int\"), np.vectorize(check_res)(training_set_normalized[not_val_mask].to_numpy().astype(\"float\") @ W_ols, tau))\n",
    ", 'val' , accuracy_score(train_labels[val_mask].to_numpy().astype(\"int\"), NN_res)\n",
    ", 'F1' , f1_score(train_labels[val_mask].to_numpy().astype(\"int\"), NN_res))"
   ]
  },
  {
   "cell_type": "code",
   "execution_count": 322,
   "id": "fe5f3460",
   "metadata": {},
   "outputs": [
    {
     "name": "stderr",
     "output_type": "stream",
     "text": [
      "C:\\Users\\hp\\AppData\\Local\\Temp\\ipykernel_23468\\1206829145.py:4: SettingWithCopyWarning: \n",
      "A value is trying to be set on a copy of a slice from a DataFrame.\n",
      "Try using .loc[row_indexer,col_indexer] = value instead\n",
      "\n",
      "See the caveats in the documentation: https://pandas.pydata.org/pandas-docs/stable/user_guide/indexing.html#returning-a-view-versus-a-copy\n",
      "  nnd_result[\"Transported\"] = np.vectorize(check_res)(testing_set_normalized.to_numpy().astype(\"float\") @ W_ols\n"
     ]
    },
    {
     "data": {
      "text/html": [
       "<div>\n",
       "<style scoped>\n",
       "    .dataframe tbody tr th:only-of-type {\n",
       "        vertical-align: middle;\n",
       "    }\n",
       "\n",
       "    .dataframe tbody tr th {\n",
       "        vertical-align: top;\n",
       "    }\n",
       "\n",
       "    .dataframe thead th {\n",
       "        text-align: right;\n",
       "    }\n",
       "</style>\n",
       "<table border=\"1\" class=\"dataframe\">\n",
       "  <thead>\n",
       "    <tr style=\"text-align: right;\">\n",
       "      <th></th>\n",
       "      <th>PassengerId</th>\n",
       "      <th>Transported</th>\n",
       "    </tr>\n",
       "  </thead>\n",
       "  <tbody>\n",
       "    <tr>\n",
       "      <th>0</th>\n",
       "      <td>0013_01</td>\n",
       "      <td>True</td>\n",
       "    </tr>\n",
       "    <tr>\n",
       "      <th>1</th>\n",
       "      <td>0018_01</td>\n",
       "      <td>False</td>\n",
       "    </tr>\n",
       "    <tr>\n",
       "      <th>2</th>\n",
       "      <td>0019_01</td>\n",
       "      <td>True</td>\n",
       "    </tr>\n",
       "    <tr>\n",
       "      <th>3</th>\n",
       "      <td>0021_01</td>\n",
       "      <td>True</td>\n",
       "    </tr>\n",
       "    <tr>\n",
       "      <th>4</th>\n",
       "      <td>0023_01</td>\n",
       "      <td>False</td>\n",
       "    </tr>\n",
       "    <tr>\n",
       "      <th>...</th>\n",
       "      <td>...</td>\n",
       "      <td>...</td>\n",
       "    </tr>\n",
       "    <tr>\n",
       "      <th>4272</th>\n",
       "      <td>9266_02</td>\n",
       "      <td>True</td>\n",
       "    </tr>\n",
       "    <tr>\n",
       "      <th>4273</th>\n",
       "      <td>9269_01</td>\n",
       "      <td>False</td>\n",
       "    </tr>\n",
       "    <tr>\n",
       "      <th>4274</th>\n",
       "      <td>9271_01</td>\n",
       "      <td>True</td>\n",
       "    </tr>\n",
       "    <tr>\n",
       "      <th>4275</th>\n",
       "      <td>9273_01</td>\n",
       "      <td>True</td>\n",
       "    </tr>\n",
       "    <tr>\n",
       "      <th>4276</th>\n",
       "      <td>9277_01</td>\n",
       "      <td>True</td>\n",
       "    </tr>\n",
       "  </tbody>\n",
       "</table>\n",
       "<p>4277 rows × 2 columns</p>\n",
       "</div>"
      ],
      "text/plain": [
       "     PassengerId  Transported\n",
       "0        0013_01         True\n",
       "1        0018_01        False\n",
       "2        0019_01         True\n",
       "3        0021_01         True\n",
       "4        0023_01        False\n",
       "...          ...          ...\n",
       "4272     9266_02         True\n",
       "4273     9269_01        False\n",
       "4274     9271_01         True\n",
       "4275     9273_01         True\n",
       "4276     9277_01         True\n",
       "\n",
       "[4277 rows x 2 columns]"
      ]
     },
     "execution_count": 322,
     "metadata": {},
     "output_type": "execute_result"
    }
   ],
   "source": [
    "testing_set_normalized = (testing_set.astype(\"float\")-training_set.astype(\"float\").mean())/training_set.astype(\"float\").std()\n",
    "\n",
    "nnd_result = test_dataset[[\"PassengerId\"]]\n",
    "nnd_result[\"Transported\"] = np.vectorize(check_res)(testing_set_normalized.to_numpy().astype(\"float\") @ W_ols\n",
    "                                                    , tau).astype(\"bool\")\n",
    "nnd_result.to_csv(\"OLS_result.csv\", index=False)\n",
    "nnd_result"
   ]
  },
  {
   "cell_type": "code",
   "execution_count": null,
   "id": "80329560",
   "metadata": {},
   "outputs": [],
   "source": []
  }
 ],
 "metadata": {
  "kernelspec": {
   "display_name": "Python 3 (ipykernel)",
   "language": "python",
   "name": "python3"
  },
  "language_info": {
   "codemirror_mode": {
    "name": "ipython",
    "version": 3
   },
   "file_extension": ".py",
   "mimetype": "text/x-python",
   "name": "python",
   "nbconvert_exporter": "python",
   "pygments_lexer": "ipython3",
   "version": "3.9.10"
  }
 },
 "nbformat": 4,
 "nbformat_minor": 5
}
